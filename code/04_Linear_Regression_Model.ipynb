{
 "cells": [
  {
   "cell_type": "code",
   "execution_count": 1,
   "id": "87d57180",
   "metadata": {},
   "outputs": [],
   "source": [
    "# to IO/manipulate/calculate dataframes\n",
    "import pandas as pd\n",
    "import numpy as np\n",
    "\n",
    "# to do math/statisctics\n",
    "import statistics as stat\n",
    "import math\n",
    "\n",
    "# to vitualize data\n",
    "import matplotlib.pyplot as plt\n",
    "import seaborn as sns\n",
    "\n",
    "\n",
    "# to do modeling with sklrean\n",
    "from sklearn.linear_model import LinearRegression\n",
    "from sklearn.linear_model import Ridge, RidgeCV\n",
    "from sklearn.linear_model import Lasso, LassoCV\n",
    "\n",
    "\n",
    "from sklearn.preprocessing import PolynomialFeatures\n",
    "from sklearn.preprocessing import StandardScaler\n",
    "\n",
    "from sklearn.model_selection import train_test_split\n",
    "from sklearn.model_selection import train_test_split, cross_val_score\n",
    "from sklearn import metrics\n",
    "\n",
    "# other packages\n",
    "import warnings\n",
    "warnings.filterwarnings(action='ignore')"
   ]
  },
  {
   "cell_type": "markdown",
   "id": "9a5b58e1",
   "metadata": {},
   "source": [
    "##  FUNCTION:  Replace the Null elements with the column's mean"
   ]
  },
  {
   "cell_type": "code",
   "execution_count": 2,
   "id": "9cde4b0b",
   "metadata": {},
   "outputs": [],
   "source": [
    "def replace_null_with_mean(dataset, feature_list):\n",
    "    \"\"\"\n",
    "    Calculate the mean of each column in a dataset and replace nulls with the column's mean\n",
    "    \"\"\"\n",
    "    [ dataset[feature].fillna(dataset[feature].mean(),inplace=True) for feature in feature_list ]"
   ]
  },
  {
   "cell_type": "markdown",
   "id": "81e97f70",
   "metadata": {},
   "source": [
    "## FUNCTION: Replace the Null elements with the column's mean"
   ]
  },
  {
   "cell_type": "code",
   "execution_count": 3,
   "id": "00522ff8",
   "metadata": {},
   "outputs": [],
   "source": [
    "def replace_null_with_mode(dataset, feature_list):\n",
    "    \"\"\"\n",
    "    1. To find the most frequent element in the column with object type\n",
    "    2. Replace the np.nan with the mode\n",
    "    \"\"\"\n",
    "    [dataset[feature].fillna(stat.mode(dataset[feature]), inplace=True) for feature in feature_list]"
   ]
  },
  {
   "cell_type": "code",
   "execution_count": 4,
   "id": "a77657a9",
   "metadata": {},
   "outputs": [],
   "source": [
    "def print_dataset(dataset):\n",
    "    with pd.option_context('display.max_rows', 7, 'display.max_columns', None): \n",
    "        display(dataset)    "
   ]
  },
  {
   "cell_type": "markdown",
   "id": "42f035ca",
   "metadata": {},
   "source": [
    "## FUNCTION: plot_boxplot_category"
   ]
  },
  {
   "cell_type": "markdown",
   "id": "2d866ba9",
   "metadata": {},
   "source": [
    "# FUNCTION: plot_scatter_values"
   ]
  },
  {
   "cell_type": "code",
   "execution_count": 5,
   "id": "98592819",
   "metadata": {
    "scrolled": false
   },
   "outputs": [],
   "source": [
    "def plot_scatter_values(dataset, category_features=None, remove_zeros=False):\n",
    "    if category_features==None:\n",
    "        category_features = [col for col in dataset.columns if dataset[col].dtype==np.float64]\n",
    "    size_title=26\n",
    "    size_subtitle=14\n",
    "    size_label_xy=15\n",
    "    sns.set(style=\"white\")\n",
    "\n",
    "    fig, axes = plt.subplots(nrows=int(len(category_features)/3), ncols=3,\n",
    "                             figsize=(12, int(2*len(category_features))))\n",
    "    # fig.subplots_adjust(hspace=4)\n",
    "#     fig.suptitle('Train Dataset\\n\\n\\n', fontsize=size_title,  fontweight='bold')\n",
    "\n",
    "    for ax, feature in zip(axes.flatten(), dataset[category_features]):\n",
    "#         if remove_zeros==True:\n",
    "#             dataset=dataset[dataset[feature]>0]\n",
    "        sns.scatterplot(ax=ax, y=dataset[feature], x=dataset['SalePrice']/1000)\n",
    "#         sns.kdeplot(ax=ax, y=dataset[feature], x=dataset['sale_price']/1000,\n",
    "#                     n_levels=3, cmap='PiYG', thresh=0.5)\n",
    "        \n",
    "        ax.tick_params(axis='both', labelsize=size_label_xy)\n",
    "        ax.set_title(feature.upper().replace('_',' '), fontsize=18,  fontweight='bold')\n",
    "        ax.set_ylabel(' ',fontsize=size_label_xy)\n",
    "        ax.set_xlabel('Sale Price k[$]',fontsize=size_label_xy)\n",
    "        ax.set(xlim=(0, 600), ylim=None)\n",
    "        ax.grid(b=True, which='major', axis='both')\n",
    "\n",
    "    plt.rcParams['xtick.labelsize'] = 15\n",
    "    plt.rcParams['ytick.labelsize'] = 15\n",
    "    plt.rcParams['legend.fontsize'] = 10\n",
    "    plt.rcParams['figure.titlesize'] = 12\n",
    "\n",
    "    plt.tight_layout();\n",
    "    # plt.savefig('seaborn-style.svg', bbox_inches='tight')"
   ]
  },
  {
   "cell_type": "code",
   "execution_count": 6,
   "id": "3cbdcd50",
   "metadata": {
    "scrolled": false
   },
   "outputs": [],
   "source": [
    "def plot_boxplot_category(dataset, category_features=None):\n",
    "    if category_features==None:\n",
    "        category_features = [col for col in dataset.columns if dataset[col].dtype==np.object_]\n",
    "    size_title=26\n",
    "    size_subtitle=14\n",
    "    size_label_xy=15\n",
    "    sns.set(style=\"white\")\n",
    "\n",
    "    fig, axes = plt.subplots(nrows=int(1+len(category_features)/3), ncols=3,\n",
    "                             figsize=(12, int(1.5*len(category_features))))\n",
    "    # fig.subplots_adjust(hspace=4)\n",
    "#     fig.suptitle('Train Dataset\\n\\n\\n', fontsize=size_title,  fontweight='bold')\n",
    "\n",
    "    for ax, feature in zip(axes.flatten(), dataset[category_features]):\n",
    "        my_order = dataset.groupby(by=[feature])['SalePrice'].mean().sort_values().index\n",
    "        sns.boxplot(ax=ax, y=dataset[feature], x=dataset['SalePrice']/1000, order=list(my_order[::-1]))\n",
    "        ax.tick_params(axis='both', labelsize=size_label_xy)\n",
    "        ax.set_title(feature.upper().replace('_',' '), fontsize=18,  fontweight='bold')\n",
    "        ax.set_ylabel(' ',fontsize=size_label_xy)\n",
    "        ax.set_xlabel('Sale Price k[$]',fontsize=size_label_xy)\n",
    "        ax.set(xlim=(0, 600), ylim=None)\n",
    "        ax.grid(b=True, which='major', axis='both')\n",
    "\n",
    "    plt.rcParams['xtick.labelsize'] = 15\n",
    "    plt.rcParams['ytick.labelsize'] = 15\n",
    "    plt.rcParams['legend.fontsize'] = 10\n",
    "    plt.rcParams['figure.titlesize'] = 12\n",
    "\n",
    "    plt.tight_layout();\n",
    "    # plt.savefig('seaborn-style.svg', bbox_inches='tight')"
   ]
  },
  {
   "cell_type": "code",
   "execution_count": 7,
   "id": "5e3ed203",
   "metadata": {},
   "outputs": [],
   "source": [
    "def check_nulls(dataset):\n",
    "    \"\"\"\n",
    "    This function read the dataset and report the following:\n",
    "    1. column names with null\n",
    "    2. null count \n",
    "    3. null count % \n",
    "    4. the first 10 element of each\n",
    "    \"\"\"\n",
    "    xlist=[]\n",
    "    for col in dataset.columns:\n",
    "        number_of_nulls = dataset[col].isnull().sum()\n",
    "#         print(col,number_of_nulls)\n",
    "        if number_of_nulls!=0:\n",
    "            xlist.append((col,number_of_nulls,\n",
    "                          round(number_of_nulls*100/len(dataset),1) ,dataset[col][0:10].values))\n",
    "    null_data = pd.DataFrame(data=xlist,columns=['column name','null count',\n",
    "                                            'null count %','values example'])\n",
    "    return null_data"
   ]
  },
  {
   "cell_type": "code",
   "execution_count": null,
   "id": "866f1aa6",
   "metadata": {},
   "outputs": [],
   "source": []
  },
  {
   "cell_type": "markdown",
   "id": "58a4d1e2",
   "metadata": {},
   "source": [
    "# Read Train and Test dataset ==========================================================="
   ]
  },
  {
   "cell_type": "code",
   "execution_count": 53,
   "id": "01780152",
   "metadata": {},
   "outputs": [],
   "source": [
    "test = pd.read_csv('../datasets/test_df_cleaned.csv', index_col = 0)"
   ]
  },
  {
   "cell_type": "code",
   "execution_count": 54,
   "id": "d41c104c",
   "metadata": {
    "scrolled": true
   },
   "outputs": [],
   "source": [
    "# print_dataset(test)"
   ]
  },
  {
   "cell_type": "code",
   "execution_count": 55,
   "id": "19e28779",
   "metadata": {},
   "outputs": [],
   "source": [
    "train = pd.read_csv('../datasets/train_df_cleaned.csv', index_col = 0)\n",
    "train = train[(train['SalePrice'] > 77000) & (train['SalePrice'] < 400000)]"
   ]
  },
  {
   "cell_type": "code",
   "execution_count": 56,
   "id": "5e0e5030",
   "metadata": {},
   "outputs": [],
   "source": [
    "# print_dataset(train)"
   ]
  },
  {
   "cell_type": "markdown",
   "id": "4a9df39f",
   "metadata": {},
   "source": [
    "# ==========================================================="
   ]
  },
  {
   "cell_type": "markdown",
   "id": "8d752a2d",
   "metadata": {},
   "source": [
    "# Build Model"
   ]
  },
  {
   "cell_type": "code",
   "execution_count": 57,
   "id": "18207676",
   "metadata": {
    "scrolled": false
   },
   "outputs": [],
   "source": [
    "    \n",
    "features = [\n",
    " 'Lot Frontage',\n",
    " 'Lot Area',\n",
    " 'Mas Vnr Area',\n",
    " 'BsmtFin SF 1',\n",
    " 'Gr Liv Area',\n",
    " 'Wood Deck SF',\n",
    " 'Open Porch SF',\n",
    " 'Enclosed Porch',\n",
    "    'Garage Cars',\n",
    "    \n",
    "    'Foundation',\n",
    "    'Exter Qual' , \n",
    "    'Bsmt Qual', \n",
    "    'Bsmt Cond',    \n",
    "    'Bsmt Exposure',\n",
    "    'BsmtFin Type 1', \n",
    "    'Heating QC',  \n",
    "    'Kitchen Qual',\n",
    "    'Garage Finish',  \n",
    "    'Paved Drive',  \n",
    "    'Fence',   \n",
    "    \n",
    " 'Overall Qual_3',\n",
    " 'Overall Qual_4',\n",
    " 'Overall Qual_5',\n",
    " 'Overall Qual_6',\n",
    " 'Overall Qual_7',\n",
    " 'Overall Qual_9',\n",
    " 'Overall Qual_10',\n",
    "    \n",
    " 'Overall Cond_3',\n",
    " 'Overall Cond_4',\n",
    " 'Overall Cond_5',\n",
    " 'Overall Cond_6',\n",
    " 'Overall Cond_7',\n",
    " 'Overall Cond_8',\n",
    "    \n",
    "'MS SubClass_30',\n",
    " 'MS SubClass_40',\n",
    " 'MS SubClass_45',\n",
    " 'MS SubClass_50',\n",
    " 'MS SubClass_60',\n",
    " 'MS SubClass_70',\n",
    " 'MS SubClass_75',\n",
    " 'MS SubClass_80',\n",
    " 'MS SubClass_85',\n",
    " 'MS SubClass_90',\n",
    " 'MS SubClass_120',\n",
    " 'MS SubClass_160',\n",
    " 'MS SubClass_180',\n",
    " 'MS SubClass_190',\n",
    "\n",
    "'Age',\n",
    "'remodel age',\n",
    "'Garage Age',\n",
    "'Garage Type_Detchd',\n",
    "'Mas Vnr Type_None', \n",
    "    \n",
    "'MS Zoning_FV',\n",
    " 'MS Zoning_RH',\n",
    " 'MS Zoning_RL',\n",
    " 'MS Zoning_RM',  \n",
    "    \n",
    "'House Style_1.5Unf',\n",
    " 'House Style_1Story',\n",
    " 'House Style_2Story',\n",
    " 'House Style_SFoyer',\n",
    " 'House Style_SLvl', \n",
    "\n",
    "'Neighborhood_Edwards',    \n",
    "'Neighborhood_IDOTRR'  ,   \n",
    "'Neighborhood_NAmes' ,     \n",
    "'Neighborhood_NoRidge' ,   \n",
    "'Neighborhood_NridgHt'  ,  \n",
    "'Neighborhood_OldTown' ,   \n",
    "'Neighborhood_Sawyer'   ,  \n",
    "'Neighborhood_Somerst'  ,  \n",
    "'Neighborhood_StoneBr'   , \n",
    "    \n",
    "]\n",
    "\n"
   ]
  },
  {
   "cell_type": "code",
   "execution_count": 58,
   "id": "6cefe165",
   "metadata": {},
   "outputs": [
    {
     "data": {
      "text/plain": [
       "(0.9208521926547204, 0.9023904006436164)"
      ]
     },
     "execution_count": 58,
     "metadata": {},
     "output_type": "execute_result"
    }
   ],
   "source": [
    "df_train = train\n",
    "df_test = test\n",
    "\n",
    "X = df_train[features]\n",
    "y = df_train['SalePrice']\n",
    "X_train, X_test, y_train, y_test = train_test_split(X,y,random_state=42)\n",
    "\n",
    "y_train = np.log(y_train)\n",
    "y_test  = np.log(y_test)\n",
    "\n",
    "scale = StandardScaler()\n",
    "Xs_train = scale.fit_transform(X_train)\n",
    "Xs_test = scale.transform(X_test)\n",
    "\n",
    "lr = LinearRegression()\n",
    "lr.fit(Xs_train , y_train)\n",
    "lr.score(Xs_train, y_train), lr.score(Xs_test , y_test)"
   ]
  },
  {
   "cell_type": "code",
   "execution_count": 59,
   "id": "4d24cc31",
   "metadata": {},
   "outputs": [
    {
     "data": {
      "text/plain": [
       "array([0.90873763, 0.88162126, 0.90037599, 0.91220953, 0.91989507])"
      ]
     },
     "execution_count": 59,
     "metadata": {},
     "output_type": "execute_result"
    }
   ],
   "source": [
    "cross_val_score(lr, Xs_train, y_train, cv=5)\n"
   ]
  },
  {
   "cell_type": "code",
   "execution_count": 60,
   "id": "46204e89",
   "metadata": {},
   "outputs": [
    {
     "data": {
      "text/plain": [
       "16721.591658861424"
      ]
     },
     "execution_count": 60,
     "metadata": {},
     "output_type": "execute_result"
    }
   ],
   "source": [
    "metrics.mean_squared_error(np.e**y_train , np.e**lr.predict(Xs_train), squared=False)"
   ]
  },
  {
   "cell_type": "code",
   "execution_count": 61,
   "id": "3e8bfe8b",
   "metadata": {},
   "outputs": [
    {
     "data": {
      "text/plain": [
       "array([-0.1011259 , -0.10302071, -0.10619879, -0.096126  , -0.10208662,\n",
       "       -0.09031994, -0.08251197, -0.10967126, -0.0972513 , -2.37742825])"
      ]
     },
     "execution_count": 61,
     "metadata": {},
     "output_type": "execute_result"
    }
   ],
   "source": [
    "cvs = cross_val_score(lr, Xs_train, y_train, cv=10, scoring = 'neg_root_mean_squared_error')\n",
    "cvs"
   ]
  },
  {
   "cell_type": "code",
   "execution_count": 62,
   "id": "e359f454",
   "metadata": {},
   "outputs": [
    {
     "data": {
      "image/png": "[encoded data removed]",
      "text/plain": [
       "<Figure size 864x576 with 1 Axes>"
      ]
     },
     "metadata": {
      "needs_background": "light"
     },
     "output_type": "display_data"
    }
   ],
   "source": [
    "plt.figure(figsize=(12,8))\n",
    "plt.plot((np.e**y_train)/1000 , (np.e**lr.predict(Xs_train))/1000,'.')\n",
    "plt.plot(y/1000 , y/1000 , '--' , alpha=0.5, lw=5)\n",
    "plt.xlabel('True Sale Price k[$]',fontsize=18)\n",
    "plt.ylabel('Modeled Sale Price k[$]',fontsize=18)\n",
    "\n",
    "plt.text(x=200, y=400, s=\"$R^2_{train}$= %2.2f\" % lr.score(Xs_train, y_train),\\\n",
    "        fontweight='demibold', fontsize=18, verticalalignment='top', horizontalalignment='right',\\\n",
    "        backgroundcolor='white', color='xkcd:poo brown')\n",
    "plt.text(x=200, y=370, s=\"$R^2_{test}$= %2.2f\" % lr.score(Xs_test , y_test),\\\n",
    "        fontweight='demibold', fontsize=18, verticalalignment='top', horizontalalignment='right',\\\n",
    "        backgroundcolor='white', color='xkcd:dried blood')\n",
    "\n",
    "plt.xticks(fontsize=18)\n",
    "plt.yticks(fontsize=18);"
   ]
  },
  {
   "cell_type": "code",
   "execution_count": 63,
   "id": "3c34122b",
   "metadata": {},
   "outputs": [],
   "source": [
    "# scale = StandardScaler()\n",
    "Zs_test = scale.transform(df_test[features])"
   ]
  },
  {
   "cell_type": "code",
   "execution_count": 64,
   "id": "8f2ac731",
   "metadata": {},
   "outputs": [],
   "source": [
    "kaggle_preds = np.e**( lr.predict(Zs_test))"
   ]
  },
  {
   "cell_type": "code",
   "execution_count": 65,
   "id": "f0517987",
   "metadata": {},
   "outputs": [
    {
     "data": {
      "image/png": "[encoded data removed]",
      "text/plain": [
       "<Figure size 432x288 with 1 Axes>"
      ]
     },
     "metadata": {
      "needs_background": "light"
     },
     "output_type": "display_data"
    }
   ],
   "source": [
    "plt.plot(kaggle_preds, '.');"
   ]
  },
  {
   "cell_type": "code",
   "execution_count": 66,
   "id": "bda2a314",
   "metadata": {},
   "outputs": [],
   "source": [
    "kaggle_output = {'Id' : df_test['Id'], 'SalePrice':kaggle_preds}"
   ]
  },
  {
   "cell_type": "code",
   "execution_count": 67,
   "id": "5941cf5b",
   "metadata": {},
   "outputs": [],
   "source": [
    "# kaggle_output"
   ]
  },
  {
   "cell_type": "code",
   "execution_count": 68,
   "id": "b3381999",
   "metadata": {},
   "outputs": [],
   "source": [
    "dataframe = pd.DataFrame(kaggle_output)"
   ]
  },
  {
   "cell_type": "code",
   "execution_count": 69,
   "id": "b531ccca",
   "metadata": {},
   "outputs": [
    {
     "data": {
      "text/html": [
       "<div>\n",
       "<style scoped>\n",
       "    .dataframe tbody tr th:only-of-type {\n",
       "        vertical-align: middle;\n",
       "    }\n",
       "\n",
       "    .dataframe tbody tr th {\n",
       "        vertical-align: top;\n",
       "    }\n",
       "\n",
       "    .dataframe thead th {\n",
       "        text-align: right;\n",
       "    }\n",
       "</style>\n",
       "<table border=\"1\" class=\"dataframe\">\n",
       "  <thead>\n",
       "    <tr style=\"text-align: right;\">\n",
       "      <th></th>\n",
       "      <th>Id</th>\n",
       "      <th>SalePrice</th>\n",
       "    </tr>\n",
       "  </thead>\n",
       "  <tbody>\n",
       "    <tr>\n",
       "      <th>0</th>\n",
       "      <td>2658</td>\n",
       "      <td>123103.410844</td>\n",
       "    </tr>\n",
       "    <tr>\n",
       "      <th>1</th>\n",
       "      <td>2718</td>\n",
       "      <td>146270.178890</td>\n",
       "    </tr>\n",
       "    <tr>\n",
       "      <th>2</th>\n",
       "      <td>2414</td>\n",
       "      <td>210448.417805</td>\n",
       "    </tr>\n",
       "    <tr>\n",
       "      <th>3</th>\n",
       "      <td>1989</td>\n",
       "      <td>105419.282404</td>\n",
       "    </tr>\n",
       "    <tr>\n",
       "      <th>4</th>\n",
       "      <td>625</td>\n",
       "      <td>158226.769761</td>\n",
       "    </tr>\n",
       "  </tbody>\n",
       "</table>\n",
       "</div>"
      ],
      "text/plain": [
       "     Id      SalePrice\n",
       "0  2658  123103.410844\n",
       "1  2718  146270.178890\n",
       "2  2414  210448.417805\n",
       "3  1989  105419.282404\n",
       "4   625  158226.769761"
      ]
     },
     "execution_count": 69,
     "metadata": {},
     "output_type": "execute_result"
    }
   ],
   "source": [
    "dataframe.head()"
   ]
  },
  {
   "cell_type": "code",
   "execution_count": 70,
   "id": "f99379fd",
   "metadata": {},
   "outputs": [],
   "source": [
    "dataframe.to_csv('demo_submission.csv', index=False)"
   ]
  }
 ],
 "metadata": {
  "kernelspec": {
   "display_name": "Python 3",
   "language": "python",
   "name": "python3"
  },
  "language_info": {
   "codemirror_mode": {
    "name": "ipython",
    "version": 3
   },
   "file_extension": ".py",
   "mimetype": "text/x-python",
   "name": "python",
   "nbconvert_exporter": "python",
   "pygments_lexer": "ipython3",
   "version": "3.9.5"
  }
 },
 "nbformat": 4,
 "nbformat_minor": 5
}
